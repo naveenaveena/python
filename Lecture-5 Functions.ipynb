{
 "cells": [
  {
   "cell_type": "markdown",
   "metadata": {},
   "source": [
    "# Lecture-5 Functions"
   ]
  },
  {
   "cell_type": "markdown",
   "metadata": {},
   "source": [
    "## Built-in Functions\n",
    " are pre-defined  in the programming language library,for the programming to directly call the functions wherever required in the program for achieving certain functional operations"
   ]
  },
  {
   "cell_type": "markdown",
   "metadata": {},
   "source": [
    "#### max(), min(), abs(), type(), type conversion functions, math functions, random functions"
   ]
  },
  {
   "cell_type": "code",
   "execution_count": 1,
   "metadata": {},
   "outputs": [
    {
     "name": "stdout",
     "output_type": "stream",
     "text": [
      "5\n"
     ]
    }
   ],
   "source": [
    "print(max(1,2,3,4,5))# max() is used to find the maximum value from  given values"
   ]
  },
  {
   "cell_type": "code",
   "execution_count": 2,
   "metadata": {},
   "outputs": [
    {
     "name": "stdout",
     "output_type": "stream",
     "text": [
      "1\n"
     ]
    }
   ],
   "source": [
    "print(min(2,4,1,8,9))# mix() is used to find the manimum value from given values"
   ]
  },
  {
   "cell_type": "markdown",
   "metadata": {},
   "source": [
    "python has also a built-in module called math,which extends the list of mathematical functions.to use mathematical functions under this module ,we have to import the module using import math "
   ]
  },
  {
   "cell_type": "code",
   "execution_count": 2,
   "metadata": {},
   "outputs": [
    {
     "name": "stdout",
     "output_type": "stream",
     "text": [
      "0.850903524534\n"
     ]
    }
   ],
   "source": [
    "import math\n",
    "print(math.sin(45)) # other trigonometric functions"
   ]
  },
  {
   "cell_type": "code",
   "execution_count": 3,
   "metadata": {},
   "outputs": [
    {
     "name": "stdout",
     "output_type": "stream",
     "text": [
      "362880\n"
     ]
    }
   ],
   "source": [
    "print(math.factorial(9))\n"
   ]
  },
  {
   "cell_type": "code",
   "execution_count": 4,
   "metadata": {},
   "outputs": [
    {
     "name": "stdout",
     "output_type": "stream",
     "text": [
      "12.0\n"
     ]
    }
   ],
   "source": [
    "print(math.floor(12.98))"
   ]
  },
  {
   "cell_type": "code",
   "execution_count": 4,
   "metadata": {},
   "outputs": [
    {
     "name": "stdout",
     "output_type": "stream",
     "text": [
      "9.0\n"
     ]
    }
   ],
   "source": [
    "print(math.sqrt(81))"
   ]
  },
  {
   "cell_type": "code",
   "execution_count": 9,
   "metadata": {},
   "outputs": [
    {
     "name": "stdout",
     "output_type": "stream",
     "text": [
      "42.0\n"
     ]
    }
   ],
   "source": [
    "print(math.fmod(198,78))"
   ]
  },
  {
   "cell_type": "markdown",
   "metadata": {},
   "source": [
    "The python import random module defines a series of functions for generating or manipulating random integers.\n",
    "Python random() is a pseudo-random number generator function that generates a random float number between 0.0 and 1.0"
   ]
  },
  {
   "cell_type": "code",
   "execution_count": 5,
   "metadata": {},
   "outputs": [
    {
     "name": "stdout",
     "output_type": "stream",
     "text": [
      "0.9282666108871739\n",
      "0.11282759788321561\n",
      "0.6436143353360743\n",
      "0.07154449211823433\n",
      "0.3960126648792158\n"
     ]
    }
   ],
   "source": [
    "# Let us print 5 random numbers\n",
    "import random\n",
    "for i in range(5):\n",
    "    print(random.random())"
   ]
  },
  {
   "cell_type": "code",
   "execution_count": 6,
   "metadata": {},
   "outputs": [
    {
     "name": "stdout",
     "output_type": "stream",
     "text": [
      "8.0\n"
     ]
    }
   ],
   "source": [
    "print(math.pow(2,3))"
   ]
  },
  {
   "cell_type": "markdown",
   "metadata": {},
   "source": [
    "## User Defined Functions\n",
    " Functions that we define ourselves to do certain specific task are referred as USER-DEFINED FUNCTIONS\n",
    " In python we craete the user-defined function using def keyword followed by the function name"
   ]
  },
  {
   "cell_type": "markdown",
   "metadata": {},
   "source": [
    "### Function greet()"
   ]
  },
  {
   "cell_type": "code",
   "execution_count": 7,
   "metadata": {},
   "outputs": [],
   "source": [
    "# Function greet() that says hello when called\n",
    "def greet():\n",
    "    print('Hello')"
   ]
  },
  {
   "cell_type": "code",
   "execution_count": 8,
   "metadata": {},
   "outputs": [
    {
     "name": "stdout",
     "output_type": "stream",
     "text": [
      "Hello\n"
     ]
    }
   ],
   "source": [
    "#call it\n",
    "greet()"
   ]
  },
  {
   "cell_type": "markdown",
   "metadata": {},
   "source": [
    "ARGUMENTS is the value that are sent to the function when it is called.\n",
    "information that are passed into the function is arguments/parameters"
   ]
  },
  {
   "cell_type": "code",
   "execution_count": 1,
   "metadata": {},
   "outputs": [],
   "source": [
    "# Function greet(name) with arguments\n",
    "def greet(name):\n",
    "    print('Hello ', name)"
   ]
  },
  {
   "cell_type": "code",
   "execution_count": 2,
   "metadata": {},
   "outputs": [],
   "source": [
    "# Function greet(name) with arguments\n",
    "def greet(name='buddy !'):\n",
    "    print('Hello ', name)"
   ]
  },
  {
   "cell_type": "code",
   "execution_count": 3,
   "metadata": {},
   "outputs": [
    {
     "name": "stdout",
     "output_type": "stream",
     "text": [
      "Hello  buddy !\n"
     ]
    }
   ],
   "source": [
    "greet()"
   ]
  },
  {
   "cell_type": "code",
   "execution_count": 4,
   "metadata": {},
   "outputs": [
    {
     "name": "stdout",
     "output_type": "stream",
     "text": [
      "Hello  Rajkumar\n",
      "Hello  Tom\n",
      "Hello  Anne\n",
      "Hello  Deepti\n"
     ]
    }
   ],
   "source": [
    "# call greet() with many names\n",
    "greet('Rajkumar')\n",
    "greet('Tom')\n",
    "greet('Anne')\n",
    "greet('Deepti')"
   ]
  },
  {
   "cell_type": "markdown",
   "metadata": {},
   "source": [
    "### Function add(a,b) returns value"
   ]
  },
  {
   "cell_type": "code",
   "execution_count": 5,
   "metadata": {},
   "outputs": [
    {
     "name": "stdout",
     "output_type": "stream",
     "text": [
      "Sum:  30\n"
     ]
    }
   ],
   "source": [
    "# define add\n",
    "def add(a,b):\n",
    "    result = a + b\n",
    "    return result\n",
    "\n",
    "# call it\n",
    "sum = add(10, 20)\n",
    "print('Sum: ', sum)"
   ]
  },
  {
   "cell_type": "markdown",
   "metadata": {},
   "source": [
    "### Function can call other functions"
   ]
  },
  {
   "cell_type": "code",
   "execution_count": 6,
   "metadata": {},
   "outputs": [
    {
     "name": "stdout",
     "output_type": "stream",
     "text": [
      "57\n"
     ]
    }
   ],
   "source": [
    "def findmax(numbers):\n",
    "    largest = max(numbers)\n",
    "    return largest\n",
    "\n",
    "# find max\n",
    "data = [1,2,3,4,57,9]\n",
    "print(findmax(data))"
   ]
  },
  {
   "cell_type": "markdown",
   "metadata": {},
   "source": [
    "#### Calculator Example"
   ]
  },
  {
   "cell_type": "code",
   "execution_count": 7,
   "metadata": {},
   "outputs": [
    {
     "name": "stdout",
     "output_type": "stream",
     "text": [
      "Let's do some math with just functions!\n",
      "ADDING 30 + 5\n",
      "SUBTRACTING 78 - 4\n",
      "MULTIPLYING 90 * 2\n",
      "DIVIDING 100 / 2\n",
      "\n",
      "Age: 35, Height: 74, Weight: 180, IQ: 50.0\n",
      "\n",
      "Here is a puzzle.\n",
      "DIVIDING 50.0 / 2\n",
      "MULTIPLYING 180 * 25.0\n",
      "SUBTRACTING 74 - 4500.0\n",
      "ADDING 35 + -4426.0\n"
     ]
    }
   ],
   "source": [
    "def add(a, b):\n",
    "    print(f\"ADDING {a} + {b}\")\n",
    "    return a + b\n",
    "\n",
    "def subtract(a, b):\n",
    "    print(f\"SUBTRACTING {a} - {b}\")\n",
    "    return a - b\n",
    "\n",
    "def multiply(a, b):\n",
    "    print(f\"MULTIPLYING {a} * {b}\")\n",
    "    return a * b\n",
    "\n",
    "def divide(a, b):\n",
    "    print(f\"DIVIDING {a} / {b}\")\n",
    "    return a / b\n",
    "\n",
    "print(\"Let's do some math with just functions!\")\n",
    "age = add(30, 5)\n",
    "height = subtract(78, 4)\n",
    "weight = multiply(90, 2)\n",
    "iq = divide(100, 2)\n",
    "\n",
    "print(f\"\\nAge: {age}, Height: {height}, Weight: {weight}, IQ: {iq}\")\n",
    "\n",
    "# A puzzle for the extra credit, type it in anyway.\n",
    "print(\"\\nHere is a puzzle.\")\n",
    "what = add(age, subtract(height, multiply(weight, divide(iq, 2))))\n",
    "\n",
    "#print(\"\\nThat becomes: \", what, \"Can you do it by hand?\")"
   ]
  },
  {
   "cell_type": "code",
   "execution_count": 9,
   "metadata": {},
   "outputs": [
    {
     "name": "stdout",
     "output_type": "stream",
     "text": [
      "Enter opr < # to quit > : #\n"
     ]
    }
   ],
   "source": [
    "#Interactive arithmetic calculator\n",
    "\n",
    "def add(a, b):\n",
    "    result = a+b\n",
    "    print('a= ', a, 'b= ', b, 'a+b= ', result)\n",
    "    \n",
    "def mul(a, b):\n",
    "    result = a*b\n",
    "    print('a= ', a, 'b= ', b, 'a*b= ', result)\n",
    "\n",
    "def sub(a, b):\n",
    "    result = a-b\n",
    "    print('a= ', a, 'b= ', b, 'a-b= ', result)\n",
    "    \n",
    "def div(a, b):\n",
    "    result = a/b\n",
    "    print('a= ', a, 'b= ', b, 'a/b= ', result)\n",
    "\n",
    "while True:\n",
    "    \n",
    "    #read opr\n",
    "    opr = input('Enter opr < # to quit > : ')\n",
    "    if(opr == '#'):\n",
    "        break\n",
    "    \n",
    "    #read opd1\n",
    "    opd1 = int(input('Enter opd1: '))\n",
    "    #read opd2\n",
    "    opd2 = int(input('Enter opd2: '))\n",
    "    \n",
    "    if(opr == '+'):\n",
    "        add(opd1, opd2)\n",
    "    elif(opr == '-'):\n",
    "        sub(opd1, opd2)\n",
    "    if(opr == '*'):\n",
    "        mul(opd1, opd2)\n",
    "    elif(opr == '/'):\n",
    "        div(opd1, opd2)\n",
    "    \n",
    "# end of while loop"
   ]
  },
  {
   "cell_type": "markdown",
   "metadata": {},
   "source": [
    "### Local variables and global variables"
   ]
  },
  {
   "cell_type": "markdown",
   "metadata": {},
   "source": [
    "Global variables are those which are not defined within the function and it can be accessed from anywhere whereas\n",
    "local variables are those which are  defined inside the function and it can be accessed within that function only"
   ]
  },
  {
   "cell_type": "code",
   "execution_count": 10,
   "metadata": {},
   "outputs": [
    {
     "name": "stdout",
     "output_type": "stream",
     "text": [
      "Before calling:  10\n",
      "Inside function:  11\n",
      "After calling:  10\n"
     ]
    }
   ],
   "source": [
    "num = 10\n",
    "\n",
    "def show(num):\n",
    "    num += 1\n",
    "    print('Inside function: ', num)\n",
    "\n",
    "print('Before calling: ', num)\n",
    "\n",
    "# call it\n",
    "show(num)\n",
    "\n",
    "# print num\n",
    "print('After calling: ', num)"
   ]
  },
  {
   "cell_type": "markdown",
   "metadata": {},
   "source": [
    "### Update global variable"
   ]
  },
  {
   "cell_type": "code",
   "execution_count": 11,
   "metadata": {},
   "outputs": [
    {
     "name": "stdout",
     "output_type": "stream",
     "text": [
      "Hello  Tom\n",
      "Hello  Sam\n",
      "Hello  Rex\n",
      "You have greeted  3  persons today\n"
     ]
    }
   ],
   "source": [
    "counter = 0 # it is accessible across many functions\n",
    "\n",
    "def greet(name):\n",
    "    print('Hello ', name)\n",
    "    global counter\n",
    "    counter += 1\n",
    "\n",
    "# greet many persons\n",
    "greet('Tom')\n",
    "greet('Sam')\n",
    "greet('Rex')\n",
    "\n",
    "print('You have greeted ', counter, ' persons today')"
   ]
  },
  {
   "cell_type": "markdown",
   "metadata": {},
   "source": [
    "### Boolean functions"
   ]
  },
  {
   "cell_type": "markdown",
   "metadata": {},
   "source": [
    "the boolean function returns the boolean value of a specified object.(i.e) True or False"
   ]
  },
  {
   "cell_type": "code",
   "execution_count": 12,
   "metadata": {},
   "outputs": [
    {
     "name": "stdout",
     "output_type": "stream",
     "text": [
      "False\n"
     ]
    }
   ],
   "source": [
    "# Function divisible() returns True or False\n",
    "\n",
    "def isDivisible(a,b):\n",
    "    return a % b == 0\n",
    "\n",
    "a = 10\n",
    "b = 3\n",
    "print(isDivisible(a,b))"
   ]
  },
  {
   "cell_type": "markdown",
   "metadata": {},
   "source": [
    "#### Check for odd numbers in list"
   ]
  },
  {
   "cell_type": "code",
   "execution_count": 13,
   "metadata": {},
   "outputs": [
    {
     "name": "stdout",
     "output_type": "stream",
     "text": [
      "List contains odd numbers\n"
     ]
    }
   ],
   "source": [
    "def has_odd(numbers): # returns True or False\n",
    "    \n",
    "    count = 0\n",
    "    \n",
    "    for number in numbers:\n",
    "        if number % 2 == 1:\n",
    "            count += 1\n",
    "    \n",
    "    return count > 0\n",
    "\n",
    "# check a list\n",
    "lst = [2, 4, 6, 8, 10,11]\n",
    "\n",
    "if has_odd(lst): # do not check \"has_odd(lst) == True\"\n",
    "    print('List contains odd numbers')\n",
    "else:\n",
    "    print('List does not contain odd numbers')"
   ]
  },
  {
   "cell_type": "markdown",
   "metadata": {},
   "source": [
    "#### Modify the above code to print how many odd numbers in the given list"
   ]
  },
  {
   "cell_type": "markdown",
   "metadata": {},
   "source": [
    "## Important String Functions"
   ]
  },
  {
   "cell_type": "markdown",
   "metadata": {},
   "source": [
    "len(str) <br>\n",
    "str[i] <br>\n",
    "str[i:j] <br>\n",
    "str.find(target) <br>"
   ]
  },
  {
   "cell_type": "code",
   "execution_count": 14,
   "metadata": {},
   "outputs": [
    {
     "name": "stdout",
     "output_type": "stream",
     "text": [
      "38\n",
      "Character at location  6  is  i\n",
      "Substring from location  10  to location  17  is  is a sp\n",
      "fff  found at  -1\n"
     ]
    }
   ],
   "source": [
    "text = 'This line is a spam, do not get fooled'\n",
    "\n",
    "print(len(text))\n",
    "\n",
    "loc = 6\n",
    "print('Character at location ', loc, ' is ', text[loc])\n",
    "\n",
    "start = 10\n",
    "end = 17\n",
    "print('Substring from location ', start, ' to location ', end, ' is ', text[start:end])\n",
    "\n",
    "target = 'fff'\n",
    "print(target, ' found at ', text.find(target))"
   ]
  },
  {
   "cell_type": "markdown",
   "metadata": {},
   "source": [
    "### Hands On at Home Exercise: String processing with several functions"
   ]
  },
  {
   "cell_type": "code",
   "execution_count": 15,
   "metadata": {},
   "outputs": [],
   "source": [
    "def break_words(stuff):\n",
    "    \"\"\"This function will break up words for us.\"\"\"\n",
    "    words = stuff.split(' ')\n",
    "    return words\n",
    "\n",
    "def sort_words(words):\n",
    "    \"\"\"Sorts the words.\"\"\"\n",
    "    return sorted(words)\n",
    "\n",
    "def print_first_word(words):\n",
    "    \"\"\"Prints the first word after popping it off.\"\"\"\n",
    "    word = words.pop(0)\n",
    "    print(word)\n",
    "    \n",
    "def print_last_word(words):\n",
    "    \"\"\"Prints the last word after popping it off.\"\"\"\n",
    "    word = words.pop(-1)\n",
    "    print(word)\n",
    "\n",
    "def sort_sentence(sentence):\n",
    "    \"\"\"Takes in a full sentence and returns the sorted words.\"\"\"\n",
    "    words = break_words(sentence)\n",
    "    return sort_words(words)\n",
    "\n",
    "def print_first_and_last(sentence):\n",
    "    \"\"\"Prints the first and last words of the sentence.\"\"\"\n",
    "    words = break_words(sentence)\n",
    "    print_first_word(words)\n",
    "    print_last_word(words)\n",
    "\n",
    "def print_first_and_last_sorted(sentence):\n",
    "    \"\"\"Sorts the words then prints the first and last one.\"\"\"\n",
    "    words = sort_sentence(sentence)\n",
    "    print_first_word(words)\n",
    "    print_last_word(words)\n"
   ]
  },
  {
   "cell_type": "code",
   "execution_count": 16,
   "metadata": {},
   "outputs": [
    {
     "data": {
      "text/plain": [
       "['All', 'good', 'things', 'come', 'to', 'those', 'who', 'wait.']"
      ]
     },
     "execution_count": 16,
     "metadata": {},
     "output_type": "execute_result"
    }
   ],
   "source": [
    "#call these functions\n",
    "sentence = \"All good things come to those who wait.\"\n",
    "words = break_words(sentence)\n",
    "words"
   ]
  },
  {
   "cell_type": "code",
   "execution_count": 17,
   "metadata": {},
   "outputs": [
    {
     "data": {
      "text/plain": [
       "['All', 'come', 'good', 'things', 'those', 'to', 'wait.', 'who']"
      ]
     },
     "execution_count": 17,
     "metadata": {},
     "output_type": "execute_result"
    }
   ],
   "source": [
    "sorted_words = sort_words(words)\n",
    "sorted_words"
   ]
  },
  {
   "cell_type": "code",
   "execution_count": 18,
   "metadata": {},
   "outputs": [
    {
     "name": "stdout",
     "output_type": "stream",
     "text": [
      "All\n"
     ]
    }
   ],
   "source": [
    "print_first_word(words)"
   ]
  },
  {
   "cell_type": "code",
   "execution_count": 19,
   "metadata": {},
   "outputs": [
    {
     "name": "stdout",
     "output_type": "stream",
     "text": [
      "wait.\n"
     ]
    }
   ],
   "source": [
    "print_last_word(words)"
   ]
  },
  {
   "cell_type": "code",
   "execution_count": 20,
   "metadata": {},
   "outputs": [
    {
     "name": "stdout",
     "output_type": "stream",
     "text": [
      "All\n"
     ]
    }
   ],
   "source": [
    "print_first_word(sorted_words)"
   ]
  },
  {
   "cell_type": "code",
   "execution_count": 21,
   "metadata": {},
   "outputs": [
    {
     "name": "stdout",
     "output_type": "stream",
     "text": [
      "who\n"
     ]
    }
   ],
   "source": [
    "print_last_word(sorted_words)"
   ]
  },
  {
   "cell_type": "code",
   "execution_count": 22,
   "metadata": {},
   "outputs": [
    {
     "data": {
      "text/plain": [
       "['All', 'come', 'good', 'things', 'those', 'to', 'wait.', 'who']"
      ]
     },
     "execution_count": 22,
     "metadata": {},
     "output_type": "execute_result"
    }
   ],
   "source": [
    "sort_sentence(sentence)"
   ]
  },
  {
   "cell_type": "code",
   "execution_count": 23,
   "metadata": {},
   "outputs": [
    {
     "name": "stdout",
     "output_type": "stream",
     "text": [
      "All\n",
      "wait.\n"
     ]
    }
   ],
   "source": [
    "print_first_and_last(sentence)"
   ]
  },
  {
   "cell_type": "code",
   "execution_count": 24,
   "metadata": {},
   "outputs": [
    {
     "name": "stdout",
     "output_type": "stream",
     "text": [
      "All\n",
      "who\n"
     ]
    }
   ],
   "source": [
    "print_first_and_last_sorted(sentence)"
   ]
  },
  {
   "cell_type": "markdown",
   "metadata": {},
   "source": [
    "## Home Work - 1"
   ]
  },
  {
   "cell_type": "code",
   "execution_count": 25,
   "metadata": {},
   "outputs": [],
   "source": [
    "# PSPR_homework-1.doc"
   ]
  },
  {
   "cell_type": "code",
   "execution_count": 10,
   "metadata": {},
   "outputs": [
    {
     "name": "stdout",
     "output_type": "stream",
     "text": [
      "-5\n"
     ]
    }
   ],
   "source": [
    "l=[1,2,3,-1,-4]\n",
    "i=-1\n",
    "negative_sum=0\n",
    "positive_sum=0\n",
    "while True:\n",
    "    if l[i]<0:\n",
    "        negative_sum+=l[i]\n",
    "        i-=1\n",
    "    else:\n",
    "        positive_sum+=l[i]\n",
    "        \n",
    "print('sum of negative values:')"
   ]
  },
  {
   "cell_type": "code",
   "execution_count": null,
   "metadata": {},
   "outputs": [],
   "source": []
  }
 ],
 "metadata": {
  "kernelspec": {
   "display_name": "Python 2",
   "language": "python",
   "name": "python2"
  },
  "language_info": {
   "codemirror_mode": {
    "name": "ipython",
    "version": 2
   },
   "file_extension": ".py",
   "mimetype": "text/x-python",
   "name": "python",
   "nbconvert_exporter": "python",
   "pygments_lexer": "ipython2",
   "version": "2.7.15"
  }
 },
 "nbformat": 4,
 "nbformat_minor": 2
}
